{
 "cells": [
  {
   "cell_type": "code",
   "execution_count": 35,
   "metadata": {},
   "outputs": [],
   "source": [
    "import numpy as np"
   ]
  },
  {
   "cell_type": "code",
   "execution_count": 36,
   "metadata": {},
   "outputs": [],
   "source": [
    "input = np.genfromtxt('day1_input.txt')"
   ]
  },
  {
   "cell_type": "code",
   "execution_count": 37,
   "metadata": {},
   "outputs": [],
   "source": [
    "def how_deep(input):\n",
    "    # Compares each value to the previous one adds one to total if it increases\n",
    "    increasing = 0\n",
    "    value = 0\n",
    "    while value < len(input)-1:\n",
    "        if input[value+1] > input[value]:\n",
    "            increasing = increasing+1\n",
    "        else:\n",
    "            pass\n",
    "        value = value+1\n",
    "    return increasing"
   ]
  },
  {
   "cell_type": "code",
   "execution_count": 38,
   "metadata": {},
   "outputs": [
    {
     "data": {
      "text/plain": [
       "1288"
      ]
     },
     "execution_count": 38,
     "metadata": {},
     "output_type": "execute_result"
    }
   ],
   "source": [
    "how_deep(input)"
   ]
  },
  {
   "cell_type": "code",
   "execution_count": 39,
   "metadata": {},
   "outputs": [],
   "source": [
    "def going_deeper_underground(input):\n",
    "    # Compares sums of three values\n",
    "    increasing = 0\n",
    "    value = 0\n",
    "    while value < len(input)-3:\n",
    "        A = input[value]+input[value+1]+input[value+2]\n",
    "        B = input[value+1]+input[value+2]+input[value+3]\n",
    "        if B > A:\n",
    "            increasing = increasing+1\n",
    "        else:\n",
    "            pass\n",
    "        value = value+1\n",
    "    return increasing"
   ]
  },
  {
   "cell_type": "code",
   "execution_count": 40,
   "metadata": {},
   "outputs": [
    {
     "data": {
      "text/plain": [
       "1311"
      ]
     },
     "execution_count": 40,
     "metadata": {},
     "output_type": "execute_result"
    }
   ],
   "source": [
    "going_deeper_underground(input)"
   ]
  }
 ],
 "metadata": {
  "interpreter": {
   "hash": "40d3a090f54c6569ab1632332b64b2c03c39dcf918b08424e98f38b5ae0af88f"
  },
  "kernelspec": {
   "display_name": "Python 3.8.5 64-bit ('base': conda)",
   "language": "python",
   "name": "python3"
  },
  "language_info": {
   "codemirror_mode": {
    "name": "ipython",
    "version": 3
   },
   "file_extension": ".py",
   "mimetype": "text/x-python",
   "name": "python",
   "nbconvert_exporter": "python",
   "pygments_lexer": "ipython3",
   "version": "3.8.5"
  },
  "orig_nbformat": 4
 },
 "nbformat": 4,
 "nbformat_minor": 2
}
