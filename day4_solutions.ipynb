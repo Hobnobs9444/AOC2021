{
 "cells": [
  {
   "cell_type": "markdown",
   "metadata": {},
   "source": [
    "# Day 4: Giant Squid\n",
    "\n",
    "You're already almost 1.5km (almost a mile) below the surface of the ocean, already so deep that you can't see any sunlight. What you can see, however, is a giant squid that has attached itself to the outside of your submarine.\n",
    "\n",
    "Maybe it wants to play bingo?\n",
    "\n",
    "Bingo is played on a set of boards each consisting of a 5x5 grid of numbers. Numbers are chosen at random, and the chosen number is marked on all boards on which it appears. (Numbers may not appear on all boards.) If all numbers in any row or any column of a board are marked, that board wins. (Diagonals don't count.)\n",
    "\n",
    "The submarine has a bingo subsystem to help passengers (currently, you and the giant squid) pass the time. It automatically generates a random order in which to draw numbers and a random set of boards (your puzzle input). For example:\n",
    "\n",
    "\n",
    "    7,4,9,5,11,17,23,2,0,14,21,24,10,16,13,6,15,25,12,22,18,20,8,19,3,26,1\n",
    "\n",
    "    22 13 17 11  0\n",
    "     8  2 23  4 24\n",
    "    21  9 14 16  7\n",
    "     6 10  3 18  5\n",
    "     1 12 20 15 19\n",
    "\n",
    "     3 15  0  2 22\n",
    "     9 18 13 17  5\n",
    "    19  8  7 25 23\n",
    "    20 11 10 24  4\n",
    "    14 21 16 12  6\n",
    "\n",
    "    14 21 17 24  4\n",
    "    10 16 15  9 19\n",
    "    18  8 23 26 20\n",
    "    22 11 13  6  5\n",
    "     2  0 12  3  7\n",
    "\n",
    "After the first five numbers are drawn (7, 4, 9, 5, and 11), there are no winners, but the boards are marked as follows (shown here adjacent to each other to save space):\n",
    "\n",
    "    22 13 17 11  0         3 15  0  2 22        14 21 17 24  4\n",
    "     8  2 23  4 24         9 18 13 17  5        10 16 15  9 19\n",
    "    21  9 14 16  7        19  8  7 25 23        18  8 23 26 20\n",
    "     6 10  3 18  5        20 11 10 24  4        22 11 13  6  5\n",
    "     1 12 20 15 19        14 21 16 12  6         2  0 12  3  7\n",
    "\n",
    "After the next six numbers are drawn (17, 23, 2, 0, 14, and 21), there are still no winners:\n",
    "\n",
    "    22 13 17 11  0         3 15  0  2 22        14 21 17 24  4\n",
    "     8  2 23  4 24         9 18 13 17  5        10 16 15  9 19\n",
    "    21  9 14 16  7        19  8  7 25 23        18  8 23 26 20\n",
    "     6 10  3 18  5        20 11 10 24  4        22 11 13  6  5\n",
    "     1 12 20 15 19        14 21 16 12  6         2  0 12  3  7\n",
    "\n",
    "Finally, 24 is drawn:\n",
    "\n",
    "    22 13 17 11  0         3 15  0  2 22        14 21 17 24  4\n",
    "     8  2 23  4 24         9 18 13 17  5        10 16 15  9 19\n",
    "    21  9 14 16  7        19  8  7 25 23        18  8 23 26 20\n",
    "     6 10  3 18  5        20 11 10 24  4        22 11 13  6  5\n",
    "     1 12 20 15 19        14 21 16 12  6         2  0 12  3  7\n",
    "\n",
    "At this point, the third board wins because it has at least one complete row or column of marked numbers (in this case, the entire top row is marked: 14 21 17 24 4).\n",
    "\n",
    "The score of the winning board can now be calculated. Start by finding the sum of all unmarked numbers on that board; in this case, the sum is 188. Then, multiply that sum by the number that was just called when the board won, 24, to get the final score, 188 * 24 = 4512.\n",
    "\n",
    "To guarantee victory against the giant squid, figure out which board will win first. What will your final score be if you choose that board?\n"
   ]
  },
  {
   "cell_type": "markdown",
   "metadata": {},
   "source": [
    "## Library and data import and cleaning"
   ]
  },
  {
   "cell_type": "code",
   "execution_count": 1,
   "metadata": {},
   "outputs": [],
   "source": [
    "# import libs\n",
    "import numpy as np\n",
    "\n",
    "# import example data\n",
    "example_seq = np.loadtxt('day4_example.txt', delimiter=',', max_rows=1)\n",
    "example_cards = np.loadtxt('day4_example.txt', skiprows=2)\n",
    "\n",
    "# import puzzle data\n",
    "input_seq = np.loadtxt('day4_input.txt', delimiter=',', max_rows=1)\n",
    "input_cards = np.loadtxt('day4_input.txt', skiprows=2)"
   ]
  },
  {
   "cell_type": "code",
   "execution_count": 2,
   "metadata": {},
   "outputs": [],
   "source": [
    "def make_cards(arr):\n",
    "    '''reshapes 1d arr into 3d arr of 5x5 bingo cards'''\n",
    "    num_cards = int(len(arr)/5)\n",
    "    return np.reshape(arr, (num_cards, 5, 5))"
   ]
  },
  {
   "cell_type": "code",
   "execution_count": 3,
   "metadata": {},
   "outputs": [],
   "source": [
    "# reshape into bingo cards\n",
    "example_cards = make_cards(example_cards)\n",
    "input_cards = make_cards(input_cards)\n"
   ]
  },
  {
   "cell_type": "markdown",
   "metadata": {},
   "source": [
    "## Solution"
   ]
  },
  {
   "cell_type": "code",
   "execution_count": 13,
   "metadata": {},
   "outputs": [
    {
     "data": {
      "text/plain": [
       "22680.0"
      ]
     },
     "execution_count": 13,
     "metadata": {},
     "output_type": "execute_result"
    }
   ],
   "source": [
    "def play_bingo(numbers, cards):\n",
    "    '''plays bingo, outputs score as sum of remaining numbers on winning card * winning number'''\n",
    "    winning_cols = np.isnan(cards).all(axis=1)\n",
    "    winning_rows = np.isnan(cards).all(axis=2)\n",
    "    \n",
    "    for num in numbers:\n",
    "        if np.any(winning_cols) == False and np.any(winning_rows) == False:\n",
    "            cards[cards == num] = None\n",
    "            winning_cols = np.isnan(cards).all(axis=1)\n",
    "            winning_rows = np.isnan(cards).all(axis=2)\n",
    "            winning_num = num\n",
    "\n",
    "    if np.any(winning_cols) == True:\n",
    "        winning_card_num = np.where(winning_cols == True)[0][0]\n",
    "    elif np.any(winning_rows) == True:\n",
    "        winning_card_num = np.where(winning_rows == True)[0][0]\n",
    "\n",
    "    winning_card = cards[winning_card_num]\n",
    "\n",
    "    score = np.nansum(winning_card) * winning_num\n",
    "    \n",
    "    return score\n",
    "\n",
    "play_bingo(input_seq, input_cards)\n"
   ]
  }
 ],
 "metadata": {
  "interpreter": {
   "hash": "40d3a090f54c6569ab1632332b64b2c03c39dcf918b08424e98f38b5ae0af88f"
  },
  "kernelspec": {
   "display_name": "Python 3.8.5 64-bit ('base': conda)",
   "language": "python",
   "name": "python3"
  },
  "language_info": {
   "codemirror_mode": {
    "name": "ipython",
    "version": 3
   },
   "file_extension": ".py",
   "mimetype": "text/x-python",
   "name": "python",
   "nbconvert_exporter": "python",
   "pygments_lexer": "ipython3",
   "version": "3.8.5"
  },
  "orig_nbformat": 4
 },
 "nbformat": 4,
 "nbformat_minor": 2
}
