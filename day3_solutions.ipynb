{
 "cells": [
  {
   "cell_type": "code",
   "execution_count": 3,
   "metadata": {},
   "outputs": [],
   "source": [
    "import numpy as np"
   ]
  },
  {
   "cell_type": "code",
   "execution_count": 10,
   "metadata": {},
   "outputs": [],
   "source": [
    "input = np.loadtxt('day3_input.txt', dtype=(str))\n",
    "example = np.loadtxt('day3_example.txt', dtype=(str))"
   ]
  },
  {
   "cell_type": "code",
   "execution_count": 19,
   "metadata": {},
   "outputs": [
    {
     "data": {
      "text/plain": [
       "'10110'"
      ]
     },
     "execution_count": 19,
     "metadata": {},
     "output_type": "execute_result"
    }
   ],
   "source": [
    "def gamma_calc(data):\n",
    "    '''checks frequency of binary values at each position and returns most frequent value'''\n",
    "    gamma_rate = ''\n",
    "    position = 0\n",
    "\n",
    "    while position < len(data[0]):\n",
    "        zero = 0\n",
    "        one = 0\n",
    "        \n",
    "        for item in data:\n",
    "            if item[position] == '0':\n",
    "                zero = zero+1\n",
    "            else:\n",
    "                one = one+1\n",
    "\n",
    "        if zero > one:\n",
    "            digit = '0'\n",
    "        else:\n",
    "            digit = '1'\n",
    "\n",
    "        gamma_rate = gamma_rate + digit\n",
    "        position = position+1\n",
    "\n",
    "    return gamma_rate\n",
    "    "
   ]
  },
  {
   "cell_type": "code",
   "execution_count": 24,
   "metadata": {},
   "outputs": [],
   "source": [
    "def epsilon_calc(data):\n",
    "    '''inverse of gamma rate'''\n",
    "    epsilon_rate = ''\n",
    "    position = 0\n",
    "\n",
    "    while position < len(data[0]):\n",
    "        zero = 0\n",
    "        one = 0\n",
    "        \n",
    "        for item in data:\n",
    "            if item[position] == '0':\n",
    "                zero = zero+1\n",
    "            else:\n",
    "                one = one+1\n",
    "\n",
    "        if zero < one:\n",
    "            digit = '0'\n",
    "        else:\n",
    "            digit = '1'\n",
    "\n",
    "        epsilon_rate = epsilon_rate + digit\n",
    "        position = position+1\n",
    "\n",
    "    return epsilon_rate"
   ]
  },
  {
   "cell_type": "code",
   "execution_count": 29,
   "metadata": {},
   "outputs": [
    {
     "name": "stdout",
     "output_type": "stream",
     "text": [
      "Gamma rate is 101110101011 in binary and 2987 as integer\n",
      "Gamma rate  = 10110 in binary and 22 as integer\n"
     ]
    }
   ],
   "source": [
    "# tests\n",
    "gamma_0b = gamma_calc(example)\n",
    "\n",
    "gamma = int(gamma_0b, 2)\n",
    "\n",
    "print(f'Gamma rate is {gamma_0b} in binary and {gamma} as integer')\n",
    "print('Gamma rate  = 10110 in binary and 22 as integer')"
   ]
  },
  {
   "cell_type": "code",
   "execution_count": 27,
   "metadata": {},
   "outputs": [
    {
     "name": "stdout",
     "output_type": "stream",
     "text": [
      "epsilon rate is 01001 in binary and 9 as integer\n",
      "epsilon rate  = 01001 in binary and 9 as integer\n"
     ]
    }
   ],
   "source": [
    "# tests\n",
    "epsilon_0b = epsilon_calc(example)\n",
    "\n",
    "epsilon = int(epsilon_0b, 2)\n",
    "\n",
    "print(f'epsilon rate is {epsilon_0b} in binary and {epsilon} as integer')\n",
    "print('epsilon rate  = 01001 in binary and 9 as integer')"
   ]
  },
  {
   "cell_type": "code",
   "execution_count": 31,
   "metadata": {},
   "outputs": [
    {
     "data": {
      "text/plain": [
       "3309596"
      ]
     },
     "execution_count": 31,
     "metadata": {},
     "output_type": "execute_result"
    }
   ],
   "source": [
    "# calculate power consumption from input data\n",
    "gamma = int(gamma_calc(input), 2)\n",
    "epsilon = int(epsilon_calc(input), 2)\n",
    "gamma * epsilon"
   ]
  },
  {
   "cell_type": "code",
   "execution_count": null,
   "metadata": {},
   "outputs": [],
   "source": []
  }
 ],
 "metadata": {
  "interpreter": {
   "hash": "40d3a090f54c6569ab1632332b64b2c03c39dcf918b08424e98f38b5ae0af88f"
  },
  "kernelspec": {
   "display_name": "Python 3.8.5 64-bit ('base': conda)",
   "language": "python",
   "name": "python3"
  },
  "language_info": {
   "codemirror_mode": {
    "name": "ipython",
    "version": 3
   },
   "file_extension": ".py",
   "mimetype": "text/x-python",
   "name": "python",
   "nbconvert_exporter": "python",
   "pygments_lexer": "ipython3",
   "version": "3.8.5"
  },
  "orig_nbformat": 4
 },
 "nbformat": 4,
 "nbformat_minor": 2
}
