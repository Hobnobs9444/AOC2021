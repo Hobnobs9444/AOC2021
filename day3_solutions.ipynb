{
 "cells": [
  {
   "cell_type": "code",
   "execution_count": null,
   "metadata": {},
   "outputs": [],
   "source": [
    "import numpy as np"
   ]
  },
  {
   "cell_type": "code",
   "execution_count": null,
   "metadata": {},
   "outputs": [],
   "source": [
    "input = np.loadtxt('day3_input.txt', dtype=(str))\n",
    "example = np.loadtxt('day3_example.txt', dtype=(str))"
   ]
  },
  {
   "cell_type": "markdown",
   "metadata": {},
   "source": [
    "# Part 1: Power consumption - Gammma and Epsilon ratio\n",
    "\n",
    "The submarine has been making some odd creaking noises, so you ask it to produce a diagnostic report just in case.\n",
    "\n",
    "The diagnostic report (your puzzle input) consists of a list of binary numbers which, when decoded properly, can tell you many useful things about the conditions of the submarine. The first parameter to check is the power consumption.\n",
    "\n",
    "You need to use the binary numbers in the diagnostic report to generate two new binary numbers (called the gamma rate and the epsilon rate). The power consumption can then be found by multiplying the gamma rate by the epsilon rate.\n",
    "\n",
    "Each bit in the gamma rate can be determined by finding the most common bit in the corresponding position of all numbers in the diagnostic report. For example, given the following diagnostic report:\n",
    "\n",
    "00100\n",
    "11110\n",
    "10110\n",
    "10111\n",
    "10101\n",
    "01111\n",
    "00111\n",
    "11100\n",
    "10000\n",
    "11001\n",
    "00010\n",
    "01010\n",
    "\n",
    "Considering only the first bit of each number, there are five 0 bits and seven 1 bits. Since the most common bit is 1, the first bit of the gamma rate is 1.\n",
    "\n",
    "The most common second bit of the numbers in the diagnostic report is 0, so the second bit of the gamma rate is 0.\n",
    "\n",
    "The most common value of the third, fourth, and fifth bits are 1, 1, and 0, respectively, and so the final three bits of the gamma rate are 110.\n",
    "\n",
    "So, the gamma rate is the binary number 10110, or 22 in decimal.\n",
    "\n",
    "The epsilon rate is calculated in a similar way; rather than use the most common bit, the least common bit from each position is used. So, the epsilon rate is 01001, or 9 in decimal. Multiplying the gamma rate (22) by the epsilon rate (9) produces the power consumption, 198.\n",
    "\n",
    "Use the binary numbers in your diagnostic report to calculate the gamma rate and epsilon rate, then multiply them together. What is the power consumption of the submarine? (Be sure to represent your answer in decimal, not binary.)"
   ]
  },
  {
   "cell_type": "code",
   "execution_count": null,
   "metadata": {},
   "outputs": [],
   "source": [
    "def gamma_calc(data):\n",
    "    '''checks frequency of binary values at each position and returns most frequent value'''\n",
    "    gamma_rate = ''\n",
    "    position = 0\n",
    "\n",
    "    while position < len(data[0]):\n",
    "        zero = 0\n",
    "        one = 0\n",
    "        \n",
    "        for item in data:\n",
    "            if item[position] == '0':\n",
    "                zero = zero+1\n",
    "            else:\n",
    "                one = one+1\n",
    "\n",
    "        if zero > one:\n",
    "            digit = '0'\n",
    "        else:\n",
    "            digit = '1'\n",
    "\n",
    "        gamma_rate = gamma_rate + digit\n",
    "        position = position+1\n",
    "\n",
    "    return gamma_rate\n",
    "    "
   ]
  },
  {
   "cell_type": "code",
   "execution_count": null,
   "metadata": {},
   "outputs": [],
   "source": [
    "def epsilon_calc(data):\n",
    "    '''inverse of gamma rate'''\n",
    "    epsilon_rate = ''\n",
    "    position = 0\n",
    "\n",
    "    while position < len(data[0]):\n",
    "        zero = 0\n",
    "        one = 0\n",
    "        \n",
    "        for item in data:\n",
    "            if item[position] == '0':\n",
    "                zero = zero+1\n",
    "            else:\n",
    "                one = one+1\n",
    "\n",
    "        if zero < one:\n",
    "            digit = '0'\n",
    "        else:\n",
    "            digit = '1'\n",
    "\n",
    "        epsilon_rate = epsilon_rate + digit\n",
    "        position = position+1\n",
    "\n",
    "    return epsilon_rate"
   ]
  },
  {
   "cell_type": "code",
   "execution_count": null,
   "metadata": {},
   "outputs": [
    {
     "name": "stdout",
     "output_type": "stream",
     "text": [
      "Gamma rate is 10110 in binary and 22 as integer\n",
      "Gamma rate  = 10110 in binary and 22 as integer\n"
     ]
    }
   ],
   "source": [
    "# tests\n",
    "gamma_0b = gamma_calc(example)\n",
    "\n",
    "gamma = int(gamma_0b, 2)\n",
    "\n",
    "print(f'Gamma rate is {gamma_0b} in binary and {gamma} as integer')\n",
    "print('Gamma rate  = 10110 in binary and 22 as integer')"
   ]
  },
  {
   "cell_type": "code",
   "execution_count": null,
   "metadata": {},
   "outputs": [
    {
     "name": "stdout",
     "output_type": "stream",
     "text": [
      "epsilon rate is 01001 in binary and 9 as integer\n",
      "epsilon rate  = 01001 in binary and 9 as integer\n"
     ]
    }
   ],
   "source": [
    "# tests\n",
    "epsilon_0b = epsilon_calc(example)\n",
    "\n",
    "epsilon = int(epsilon_0b, 2)\n",
    "\n",
    "print(f'epsilon rate is {epsilon_0b} in binary and {epsilon} as integer')\n",
    "print('epsilon rate  = 01001 in binary and 9 as integer')"
   ]
  },
  {
   "cell_type": "code",
   "execution_count": null,
   "metadata": {},
   "outputs": [
    {
     "data": {
      "text/plain": [
       "3309596"
      ]
     },
     "execution_count": 7,
     "metadata": {},
     "output_type": "execute_result"
    }
   ],
   "source": [
    "# calculate power consumption from input data\n",
    "gamma = int(gamma_calc(input), 2)\n",
    "epsilon = int(epsilon_calc(input), 2)\n",
    "gamma * epsilon"
   ]
  },
  {
   "cell_type": "markdown",
   "metadata": {},
   "source": [
    "# Part 2: Oxygen Generator and CO2 Scrubber Rating\n",
    "\n",
    "Next, you should verify the life support rating, which can be determined by multiplying the oxygen generator rating by the CO2 scrubber rating.\n",
    "\n",
    "Both the oxygen generator rating and the CO2 scrubber rating are values that can be found in your diagnostic report - finding them is the tricky part. Both values are located using a similar process that involves filtering out values until only one remains. Before searching for either rating value, start with the full list of binary numbers from your diagnostic report and consider just the first bit of those numbers. Then:\n",
    "\n",
    "- Keep only numbers selected by the bit criteria for the type of rating value for which you are searching. Discard numbers whicdo not match the bit criteria.\n",
    "- If you only have one number left, stop; this is the rating value for which you are searching.\n",
    "Otherwise, repeat the process, considering the next bit to the right.\n",
    "\n",
    "The bit criteria depends on which type of rating value you want to find:\n",
    "\n",
    "- To find oxygen generator rating, determine the most common value (0 or 1) in the current bit position, and keep only numbers- with that bit in that position. If 0 and 1 are equally common, keep values with a 1 in the position being considered.\n",
    "- To find CO2 scrubber rating, determine the least common value (0 or 1) in the current bit position, and keep only numbers with- that bit in that position. If 0 and 1 are equally common, keep values with a 0 in the position being considered.\n",
    "\n",
    "For example, to determine the oxygen generator rating value using the same example diagnostic report from above:\n",
    "\n",
    "- Start with all 12 numbers and consider only the first bit of each number. There are more 1 bits (7) than 0 bits (5), so keep- only the 7 numbers with a 1 in the first position: 11110, 10110, 10111, 10101, 11100, 10000, and 11001.\n",
    "- Then, consider the second bit of the 7 remaining numbers: there are more 0 bits (4) than 1 bits (3), so keep only the 4 numbers- with a 0 in the second position: 10110, 10111, 10101, and 10000.\n",
    "- In the third position, three of the four numbers have a 1, so keep those three: 10110, 10111, and 10101.\n",
    "- In the fourth position, two of the three numbers have a 1, so keep those two: 10110 and 10111.\n",
    "- In the fifth position, there are an equal number of 0 bits and 1 bits (one each). So, to find the oxygen generator rating, keep- the number with a 1 in that position: 10111.\n",
    "- As there is only one number left, stop; the oxygen generator rating is 10111, or 23 in decimal.\n",
    "\n",
    "Then, to determine the CO2 scrubber rating value from the same example above:\n",
    "\n",
    "- Start again with all 12 numbers and consider only the first bit of each number. There are fewer 0 bits (5) than 1 bits (7), so- keep only the 5 numbers with a 0 in the first position: 00100, 01111, 00111, 00010, and 01010.\n",
    "- Then, consider the second bit of the 5 remaining numbers: there are fewer 1 bits (2) than 0 bits (3), so keep only the 2 numbers- with a 1 in the second position: 01111 and 01010.\n",
    "- In the third position, there are an equal number of 0 bits and 1 bits (one each). So, to find the CO2 scrubber rating, keep the- number with a 0 in that position: 01010.\n",
    "- As there is only one number left, stop; the CO2 scrubber rating is 01010, or 10 in decimal.\n",
    "\n",
    "Finally, to find the life support rating, multiply the oxygen generator rating (23) by the CO2 scrubber rating (10) to get 230.\n",
    "\n",
    "Use the binary numbers in your diagnostic report to calculate the oxygen generator rating and CO2 scrubber rating, then multiply them together. What is the life support rating of the submarine? (Be sure to represent your answer in decimal, not binary.)"
   ]
  },
  {
   "cell_type": "code",
   "execution_count": null,
   "metadata": {},
   "outputs": [],
   "source": [
    "example = example.tolist()"
   ]
  },
  {
   "cell_type": "code",
   "execution_count": 69,
   "metadata": {},
   "outputs": [
    {
     "data": {
      "text/plain": [
       "23"
      ]
     },
     "execution_count": 69,
     "metadata": {},
     "output_type": "execute_result"
    }
   ],
   "source": [
    "def o2_rating(values):\n",
    "    values = values\n",
    "    position = 0\n",
    "\n",
    "    while len(values) > 1:\n",
    "        zeros = 0\n",
    "        ones = 0\n",
    "        set = []\n",
    "\n",
    "        for item in values:\n",
    "            if item[position] == '0':\n",
    "                zeros = zeros+1\n",
    "            else:\n",
    "                ones = ones+1\n",
    "\n",
    "        if ones < zeros:\n",
    "            for item in values:\n",
    "                if item[position] == '0':\n",
    "                    set.append(item)\n",
    "        else:\n",
    "            for item in values:\n",
    "                if item[position] == '1':\n",
    "                    set.append(item)\n",
    "\n",
    "        values = set\n",
    "        position = position+1\n",
    "    \n",
    "    return int(values[0], 2)\n",
    "\n",
    "o2_rating(example)\n",
    "            \n"
   ]
  },
  {
   "cell_type": "code",
   "execution_count": 70,
   "metadata": {},
   "outputs": [
    {
     "data": {
      "text/plain": [
       "10"
      ]
     },
     "execution_count": 70,
     "metadata": {},
     "output_type": "execute_result"
    }
   ],
   "source": [
    "def CO2_rating(values):\n",
    "    values = values\n",
    "    position = 0\n",
    "\n",
    "    while len(values) > 1:\n",
    "        zeros = 0\n",
    "        ones = 0\n",
    "        set = []\n",
    "\n",
    "        for item in values:\n",
    "            if item[position] == '0':\n",
    "                zeros = zeros+1\n",
    "            else:\n",
    "                ones = ones+1\n",
    "\n",
    "        if ones < zeros:\n",
    "            for item in values:\n",
    "                if item[position] == '1':\n",
    "                    set.append(item)\n",
    "        else:\n",
    "            for item in values:\n",
    "                if item[position] == '0':\n",
    "                    set.append(item)\n",
    "\n",
    "        values = set\n",
    "        position = position+1\n",
    "    \n",
    "    return int(values[0], 2)\n",
    "\n",
    "CO2_rating(example)"
   ]
  },
  {
   "cell_type": "code",
   "execution_count": 71,
   "metadata": {},
   "outputs": [
    {
     "data": {
      "text/plain": [
       "2981085"
      ]
     },
     "execution_count": 71,
     "metadata": {},
     "output_type": "execute_result"
    }
   ],
   "source": [
    "def life_support(input):\n",
    "    return o2_rating(input) * CO2_rating(input)\n",
    "\n",
    "life_support(input)"
   ]
  }
 ],
 "metadata": {
  "interpreter": {
   "hash": "40d3a090f54c6569ab1632332b64b2c03c39dcf918b08424e98f38b5ae0af88f"
  },
  "kernelspec": {
   "display_name": "Python 3.8.5 64-bit ('base': conda)",
   "language": "python",
   "name": "python3"
  },
  "language_info": {
   "codemirror_mode": {
    "name": "ipython",
    "version": 3
   },
   "file_extension": ".py",
   "mimetype": "text/x-python",
   "name": "python",
   "nbconvert_exporter": "python",
   "pygments_lexer": "ipython3",
   "version": "3.8.5"
  },
  "orig_nbformat": 4
 },
 "nbformat": 4,
 "nbformat_minor": 2
}
