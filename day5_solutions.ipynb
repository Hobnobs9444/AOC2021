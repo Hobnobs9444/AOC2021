{
 "cells": [
  {
   "cell_type": "markdown",
   "metadata": {},
   "source": [
    "# Day 5: Hydrothermal Venture\n",
    "## Part 1\n",
    "\n",
    "You come across a field of hydrothermal vents on the ocean floor! These vents constantly produce large, opaque clouds, so it would be best to avoid them if possible.\n",
    "\n",
    "They tend to form in lines; the submarine helpfully produces a list of nearby lines of vents (your puzzle input) for you to review. For example:\n",
    "\n",
    "    0,9 -> 5,9\n",
    "    8,0 -> 0,8\n",
    "    9,4 -> 3,4\n",
    "    2,2 -> 2,1\n",
    "    7,0 -> 7,4\n",
    "    6,4 -> 2,0\n",
    "    0,9 -> 2,9\n",
    "    3,4 -> 1,4\n",
    "    0,0 -> 8,8\n",
    "    5,5 -> 8,2\n",
    "\n",
    "Each line of vents is given as a line segment in the format x1,y1 -> x2,y2 where x1,y1 are the coordinates of one end the line segment and x2,y2 are the coordinates of the other end. These line segments include the points at both ends. In other words:\n",
    "\n",
    "    An entry like 1,1 -> 1,3 covers points 1,1, 1,2, and 1,3.\n",
    "    An entry like 9,7 -> 7,7 covers points 9,7, 8,7, and 7,7.\n",
    "\n",
    "For now, only consider horizontal and vertical lines: lines where either x1 = x2 or y1 = y2.\n",
    "\n",
    "So, the horizontal and vertical lines from the above list would produce the following diagram:\n",
    "\n",
    "    .......1..\n",
    "    ..1....1..\n",
    "    ..1....1..\n",
    "    .......1..\n",
    "    .112111211\n",
    "    ..........\n",
    "    ..........\n",
    "    ..........\n",
    "    ..........\n",
    "    222111....\n",
    "\n",
    "In this diagram, the top left corner is 0,0 and the bottom right corner is 9,9. Each position is shown as the number of lines which cover that point or . if no line covers that point. The top-left pair of 1s, for example, comes from 2,2 -> 2,1; the very bottom row is formed by the overlapping lines 0,9 -> 5,9 and 0,9 -> 2,9.\n",
    "\n",
    "To avoid the most dangerous areas, you need to determine the number of points where at least two lines overlap. In the above example, this is anywhere in the diagram with a 2 or larger - a total of 5 points.\n",
    "\n",
    "Consider only horizontal and vertical lines. At how many points do at least two lines overlap?\n",
    "\n",
    "## Part 2\n",
    "\n",
    "Unfortunately, considering only horizontal and vertical lines doesn't give you the full picture; you need to also consider diagonal lines.\n",
    "\n",
    "Because of the limits of the hydrothermal vent mapping system, the lines in your list will only ever be horizontal, vertical, or a diagonal line at exactly 45 degrees. In other words:\n",
    "\n",
    "    An entry like 1,1 -> 3,3 covers points 1,1, 2,2, and 3,3.\n",
    "    An entry like 9,7 -> 7,9 covers points 9,7, 8,8, and 7,9.\n",
    "\n",
    "Considering all lines from the above example would now produce the following diagram:\n",
    "\n",
    "    1.1....11.\n",
    "    .111...2..\n",
    "    ..2.1.111.\n",
    "    ...1.2.2..\n",
    "    .112313211\n",
    "    ...1.2....\n",
    "    ..1...1...\n",
    "    .1.....1..\n",
    "    1.......1.\n",
    "    222111....\n",
    "\n",
    "You still need to determine the number of points where at least two lines overlap. In the above example, this is still anywhere in the diagram with a 2 or larger - now a total of 12 points.\n",
    "\n",
    "Consider all of the lines. At how many points do at least two lines overlap?\n"
   ]
  },
  {
   "cell_type": "markdown",
   "metadata": {},
   "source": [
    "## Import libs and data"
   ]
  },
  {
   "cell_type": "code",
   "execution_count": 1,
   "metadata": {},
   "outputs": [],
   "source": [
    "import numpy as np\n",
    "import io"
   ]
  },
  {
   "cell_type": "code",
   "execution_count": 2,
   "metadata": {},
   "outputs": [],
   "source": [
    "# read data\n",
    "with open('day5_input.txt') as f:\n",
    "    vents = np.loadtxt((x.replace('->',',') for x in f),delimiter=',', dtype=int)\n",
    "    vents = np.reshape(vents, (-1, 2, 2))"
   ]
  },
  {
   "cell_type": "markdown",
   "metadata": {},
   "source": [
    "## Pseudocode and coordinates reference"
   ]
  },
  {
   "cell_type": "code",
   "execution_count": 3,
   "metadata": {},
   "outputs": [],
   "source": [
    "# create map from max x,y dimensions\n",
    "# on map, add 1 to each coordinate when it appears in a line of vents\n",
    "    # for each pair, test if x=x or y=y\n",
    "    # if x=x, add 1 to map on x=x, y=y1 to y2\n",
    "    # if y=y, add 1 to map on x=x1 to x2, y=y\n",
    "    # if line is diagonal, add 1 to map between xy1 and xy2\n",
    "# count number of coordinates with total >= 2"
   ]
  },
  {
   "cell_type": "code",
   "execution_count": 4,
   "metadata": {},
   "outputs": [
    {
     "data": {
      "text/plain": [
       "False"
      ]
     },
     "execution_count": 4,
     "metadata": {},
     "output_type": "execute_result"
    }
   ],
   "source": [
    "# Coordinates reference\n",
    "vents[0,:,1]    #1st line of vents, return ([y1,y2])\n",
    "vents[0,:,0]    #1st line of vents, return ([x1,x2])\n",
    "vents[0,1,:]    #1st line of vents, return ([x2,y2])\n",
    "vents[0,0,:]    #1st line of vents, return ([x1,y1])\n",
    "vents[0]        #1st line of vents, ([[start x,y], [end x,y]])\n",
    "\n",
    "# Logic tests\n",
    "vents[0, 0, 0] == vents[0, 1, 0] #x1 == x2?\n",
    "vents[0, 0, 1] == vents[0, 1, 1] #y1 == y2?\n"
   ]
  },
  {
   "cell_type": "markdown",
   "metadata": {},
   "source": [
    "## Define functions"
   ]
  },
  {
   "cell_type": "code",
   "execution_count": 5,
   "metadata": {},
   "outputs": [
    {
     "name": "stdout",
     "output_type": "stream",
     "text": [
      "xx[0] is [409 409]\n",
      "yy[0] is [872 963]\n",
      "Orientation of line 0 is X\n",
      "There are 500 vents\n"
     ]
    }
   ],
   "source": [
    "# create map from max x,y dimensions\n",
    "def make_map(vents):\n",
    "    global map\n",
    "    x_dim = vents[:, :, 0].max() + 1\n",
    "    y_dim = vents[:, :, 1].max() + 1\n",
    "    map = np.zeros((x_dim, y_dim))\n",
    "\n",
    "# select pairs of coordinates xx, yy from line number\n",
    "def xx(line_no):\n",
    "    return vents[line_no,:,0]\n",
    "\n",
    "def yy(line_no):\n",
    "    return vents[line_no,:,1]\n",
    "\n",
    "# test orientation of vent line\n",
    "def orientation(line_no):\n",
    "    if np.all(vents[line_no,0,0] == vents[line_no,1,0]): # check if x coordinates are equal\n",
    "        return \"X\"\n",
    "    elif np.all(vents[line_no,0,1] == vents[line_no,1,1]): # check if y coordinates are equal\n",
    "        return \"Y\"\n",
    "    else:\n",
    "        return \"Diagonal\"\n",
    "\n",
    "# mark vent lines on map\n",
    "def if_Y(line_no):\n",
    "    # if orientation is Y, add 1 to (x1 -> x2, y)\n",
    "    for x in range(xx(line_no).min(), xx(line_no).max()+1):\n",
    "        y = yy(line_no)[0]\n",
    "        map[x,y] = map[x,y]+1\n",
    "\n",
    "def if_X(line_no):\n",
    "    # if orientation is X, add 1 to (x, y1 -> y2)\n",
    "    for y in range(yy(line_no).min(), yy(line_no).max()+1):\n",
    "        x = xx(line_no)[0]\n",
    "        map[x,y] = map[x,y]+1\n",
    "\n",
    "def if_diagonal(line_no):\n",
    "    # if orientation is diagonal, pass for now. \n",
    "    pass\n",
    "\n",
    "# tests\n",
    "print(f'xx[0] is {xx(0)}')\n",
    "print(f'yy[0] is {yy(0)}')\n",
    "print(f'Orientation of line 0 is {orientation(0)}')\n",
    "print(f'There are {len(vents)} vents')\n"
   ]
  },
  {
   "cell_type": "markdown",
   "metadata": {},
   "source": [
    "## Map vents"
   ]
  },
  {
   "cell_type": "code",
   "execution_count": 6,
   "metadata": {},
   "outputs": [
    {
     "data": {
      "text/plain": [
       "7436"
      ]
     },
     "execution_count": 6,
     "metadata": {},
     "output_type": "execute_result"
    }
   ],
   "source": [
    "# Create map\n",
    "make_map(vents)\n",
    "\n",
    "# Mark locations of vent lines on map\n",
    "for line_no in range(len(vents)):\n",
    "    if orientation(line_no) == 'Y':\n",
    "        if_Y(line_no)\n",
    "    elif orientation(line_no) == 'X':\n",
    "        if_X(line_no)\n",
    "    elif orientation(line_no) == 'Diagnoal':\n",
    "        pass\n",
    "\n",
    "# Count values >= 2 on map\n",
    "np.count_nonzero(map>=2)"
   ]
  },
  {
   "cell_type": "code",
   "execution_count": null,
   "metadata": {},
   "outputs": [],
   "source": []
  }
 ],
 "metadata": {
  "interpreter": {
   "hash": "40d3a090f54c6569ab1632332b64b2c03c39dcf918b08424e98f38b5ae0af88f"
  },
  "kernelspec": {
   "display_name": "Python 3.8.5 64-bit ('base': conda)",
   "language": "python",
   "name": "python3"
  },
  "language_info": {
   "codemirror_mode": {
    "name": "ipython",
    "version": 3
   },
   "file_extension": ".py",
   "mimetype": "text/x-python",
   "name": "python",
   "nbconvert_exporter": "python",
   "pygments_lexer": "ipython3",
   "version": "3.8.5"
  },
  "orig_nbformat": 4
 },
 "nbformat": 4,
 "nbformat_minor": 2
}
