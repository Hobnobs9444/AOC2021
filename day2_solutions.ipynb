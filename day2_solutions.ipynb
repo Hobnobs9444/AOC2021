{
 "cells": [
  {
   "cell_type": "code",
   "execution_count": 1,
   "metadata": {},
   "outputs": [],
   "source": [
    "import numpy as np"
   ]
  },
  {
   "cell_type": "code",
   "execution_count": 2,
   "metadata": {},
   "outputs": [],
   "source": [
    "input = np.loadtxt('day2_input.txt', dtype=(str)"
   ]
  },
  {
   "cell_type": "code",
   "execution_count": 3,
   "metadata": {},
   "outputs": [],
   "source": [
    "forward = input[:,1][input[:,0] == 'forward'].astype(float).sum()\n",
    "down = input[:,1][input[:,0] == 'down'].astype(float).sum()\n",
    "up = input[:,1][input[:,0] == 'up'].astype(float).sum()"
   ]
  },
  {
   "cell_type": "code",
   "execution_count": 4,
   "metadata": {},
   "outputs": [],
   "source": [
    "depth = down-up\n",
    "answer = depth * forward"
   ]
  },
  {
   "cell_type": "code",
   "execution_count": 5,
   "metadata": {},
   "outputs": [
    {
     "name": "stdout",
     "output_type": "stream",
     "text": [
      "The submarine is 917.0m deep and has moved 2065.0m forwards. The answer is 1893605.0m^2\n"
     ]
    }
   ],
   "source": [
    "print(f'The submarine is {depth}m deep and has moved {forward}m forwards. The answer is {answer}m^2')"
   ]
  },
  {
   "cell_type": "code",
   "execution_count": 16,
   "metadata": {},
   "outputs": [],
   "source": [
    "def navigate(input):\n",
    "    count = 0\n",
    "    horizontal = 0\n",
    "    depth = 0\n",
    "    aim = 0\n",
    "\n",
    "    while count < len(input):\n",
    "        if input[count, 0] == 'forward':\n",
    "            depth = depth + (aim * input[count,1].astype(float))\n",
    "            horizontal = horizontal + input[count, 1].astype(float)\n",
    "        elif input[count, 0] == 'down':\n",
    "            aim = aim + input[count,1].astype(float)\n",
    "        elif input[count, 0] == 'up':\n",
    "            aim = aim - input[count,1].astype(float)\n",
    "        else:\n",
    "            pass\n",
    "        count = count+1\n",
    "    \n",
    "    return print(f'horizontal={horizontal}, depth={depth}, aim={aim}, answer={horizontal*depth}') \n",
    "    "
   ]
  },
  {
   "cell_type": "code",
   "execution_count": 17,
   "metadata": {},
   "outputs": [
    {
     "name": "stdout",
     "output_type": "stream",
     "text": [
      "horizontal=2065.0, depth=1026990.0, aim=917.0, answer=2120734350.0\n"
     ]
    }
   ],
   "source": [
    "navigate(input)"
   ]
  }
 ],
 "metadata": {
  "interpreter": {
   "hash": "40d3a090f54c6569ab1632332b64b2c03c39dcf918b08424e98f38b5ae0af88f"
  },
  "kernelspec": {
   "display_name": "Python 3.8.5 64-bit ('base': conda)",
   "language": "python",
   "name": "python3"
  },
  "language_info": {
   "codemirror_mode": {
    "name": "ipython",
    "version": 3
   },
   "file_extension": ".py",
   "mimetype": "text/x-python",
   "name": "python",
   "nbconvert_exporter": "python",
   "pygments_lexer": "ipython3",
   "version": "3.8.5"
  },
  "orig_nbformat": 4
 },
 "nbformat": 4,
 "nbformat_minor": 2
}
